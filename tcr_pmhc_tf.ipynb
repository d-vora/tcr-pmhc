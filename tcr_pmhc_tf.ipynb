{
  "nbformat": 4,
  "nbformat_minor": 0,
  "metadata": {
    "colab": {
      "name": "tcr-pmhc.ipynb",
      "provenance": [],
      "collapsed_sections": []
    },
    "kernelspec": {
      "display_name": "Python 3",
      "language": "python",
      "name": "python3"
    },
    "language_info": {
      "codemirror_mode": {
        "name": "ipython",
        "version": 3
      },
      "file_extension": ".py",
      "mimetype": "text/x-python",
      "name": "python",
      "nbconvert_exporter": "python",
      "pygments_lexer": "ipython3",
      "version": "3.7.7"
    }
  },
  "cells": [
    {
      "cell_type": "markdown",
      "metadata": {
        "id": "aNCWThBc2TH0"
      },
      "source": [
        "TCR-pMHC binding prediction challenge (Copenhagen Biohackathon 2021)\n",
        "\n",
        "Building a baseline model using tensorflow"
      ]
    },
    {
      "cell_type": "code",
      "metadata": {
        "colab": {
          "base_uri": "https://localhost:8080/"
        },
        "id": "229C4gLt5Bqo",
        "outputId": "ab1e1ba0-5bf2-4436-fbb7-554c7747953f"
      },
      "source": [
        "!git clone https://github.com/d-vora/tcr-pmhc.git"
      ],
      "execution_count": null,
      "outputs": [
        {
          "output_type": "stream",
          "text": [
            "Cloning into 'tcr-pmhc'...\n",
            "remote: Enumerating objects: 311, done.\u001b[K\n",
            "remote: Counting objects: 100% (45/45), done.\u001b[K\n",
            "remote: Compressing objects: 100% (21/21), done.\u001b[K\n",
            "remote: Total 311 (delta 33), reused 24 (delta 24), pack-reused 266\u001b[K\n",
            "Receiving objects: 100% (311/311), 70.74 MiB | 36.40 MiB/s, done.\n",
            "Resolving deltas: 100% (157/157), done.\n",
            "Checking out files: 100% (20/20), done.\n"
          ],
          "name": "stdout"
        }
      ]
    },
    {
      "cell_type": "code",
      "metadata": {
        "id": "yjFOhm3I42za"
      },
      "source": [
        "#!/usr/bin/env python\n",
        "# coding: utf-8\n",
        "# Imports\n",
        "import pandas as pd\n",
        "import numpy as np\n",
        "import matplotlib.pyplot as plt\n",
        "from sklearn import metrics\n",
        "from sklearn.metrics import f1_score, accuracy_score\n",
        "from sklearn.metrics import roc_curve, confusion_matrix\n",
        "# import torch\n",
        "# import torch.nn as nn  # All neural network modules, nn.Linear, nn.Conv2d, BatchNorm, Loss functions\n",
        "# import torch.optim as optim  # For all Optimization algorithms, SGD, Adam, etc.\n",
        "# import torch.nn.functional as F  # All functions that don't have any parameters"
      ],
      "execution_count": null,
      "outputs": []
    },
    {
      "cell_type": "code",
      "metadata": {
        "id": "eyl_ZzwD7OBj"
      },
      "source": [
        "import torch\n",
        "import torch.nn as nn  # All neural network modules, nn.Linear, nn.Conv2d, BatchNorm, Loss functions\n",
        "import torch.optim as optim  # For all Optimization algorithms, SGD, Adam, etc.\n",
        "import torch.nn.functional as F  # All functions that don't have any parameters"
      ],
      "execution_count": null,
      "outputs": []
    },
    {
      "cell_type": "code",
      "metadata": {
        "colab": {
          "base_uri": "https://localhost:8080/"
        },
        "id": "wQrKb5YH6BCl",
        "outputId": "7501669e-d157-4a88-a630-8a904c353c3f"
      },
      "source": [
        "!unzip '/content/tcr-pmhc/data/train.zip'"
      ],
      "execution_count": null,
      "outputs": [
        {
          "output_type": "stream",
          "text": [
            "Archive:  /content/tcr-pmhc/data/train.zip\n",
            "  inflating: P2_labels.npz           \n",
            "   creating: __MACOSX/\n",
            "  inflating: __MACOSX/._P2_labels.npz  \n",
            "  inflating: P3_input.npz            \n",
            "  inflating: __MACOSX/._P3_input.npz  \n",
            "  inflating: P4_input.npz            \n",
            "  inflating: __MACOSX/._P4_input.npz  \n",
            "  inflating: P2_input.npz            \n",
            "  inflating: __MACOSX/._P2_input.npz  \n",
            "  inflating: P1_input.npz            \n",
            "  inflating: __MACOSX/._P1_input.npz  \n",
            "  inflating: P3_labels.npz           \n",
            "  inflating: __MACOSX/._P3_labels.npz  \n",
            "  inflating: P4_labels.npz           \n",
            "  inflating: __MACOSX/._P4_labels.npz  \n",
            "  inflating: P1_labels.npz           \n",
            "  inflating: __MACOSX/._P1_labels.npz  \n"
          ],
          "name": "stdout"
        }
      ]
    },
    {
      "cell_type": "markdown",
      "metadata": {
        "id": "3p2tH_lP42zh"
      },
      "source": [
        "## Model"
      ]
    },
    {
      "cell_type": "code",
      "metadata": {
        "id": "vjbBm6hz1qZK"
      },
      "source": [
        ""
      ],
      "execution_count": null,
      "outputs": []
    },
    {
      "cell_type": "code",
      "metadata": {
        "colab": {
          "base_uri": "https://localhost:8080/"
        },
        "id": "TXnL2e-T42zi",
        "outputId": "ccd43a3e-cfa0-49f4-ef4e-9abeee737133"
      },
      "source": [
        "###############################\n",
        "###    Load data            ###\n",
        "###############################\n",
        "\n",
        "data_list = []\n",
        "target_list = []\n",
        "\n",
        "import glob\n",
        "for fp in glob.glob(\"/content/*input.npz\"):\n",
        "    data = np.load(fp)[\"arr_0\"]\n",
        "    targets = np.load(fp.replace(\"input\", \"labels\"))[\"arr_0\"]\n",
        "    \n",
        "    data_list.append(data)\n",
        "    target_list.append(targets)\n",
        "\n",
        "# Note:\n",
        "# Choose your own training and val set based on data_list and target_list\n",
        "# Here using the last partition as val set\n",
        "\n",
        "X_train = np.concatenate(data_list[ :-1])\n",
        "y_train = np.concatenate(target_list[:-1])\n",
        "nsamples, nx, ny = X_train.shape\n",
        "print(\"Training set shape:\", nsamples,nx,ny)\n",
        "\n",
        "X_val = np.concatenate(data_list[-1: ])\n",
        "y_val = np.concatenate(target_list[-1: ])\n",
        "nsamples, nx, ny = X_val.shape\n",
        "print(\"val set shape:\", nsamples,nx,ny)\n",
        "\n",
        "p_neg = len(y_train[y_train == 1])/len(y_train)*100\n",
        "print(\"Percent positive samples in train:\", p_neg)\n",
        "\n",
        "p_pos = len(y_val[y_val == 1])/len(y_val)*100\n",
        "print(\"Percent positive samples in val:\", p_pos)\n",
        "\n",
        "# make the data set into one dataset that can go into dataloader\n",
        "train_ds = []\n",
        "for i in range(len(X_train)):\n",
        "    train_ds.append([np.transpose(X_train[i]), y_train[i]])\n",
        "\n",
        "val_ds = []\n",
        "for i in range(len(X_val)):\n",
        "    val_ds.append([np.transpose(X_val[i]), y_val[i]])\n",
        "\n",
        "bat_size = 64\n",
        "print(\"\\nNOTE:\\nSetting batch-size to\", bat_size)\n",
        "train_ldr = torch.utils.data.DataLoader(train_ds,batch_size=bat_size, shuffle=True)\n",
        "val_ldr = torch.utils.data.DataLoader(val_ds,batch_size=bat_size, shuffle=True)\n",
        "\n",
        "\n",
        "# Set device\n",
        "device = torch.device(\"cuda\" if torch.cuda.is_available() else \"cpu\")\n",
        "print(\"Using device (CPU/GPU):\", device)\n",
        "#device = torch.device(\"cpu\")\n"
      ],
      "execution_count": null,
      "outputs": [
        {
          "output_type": "stream",
          "text": [
            "Training set shape: 4538 420 54\n",
            "val set shape: 1168 420 54\n",
            "Percent positive samples in train: 24.9669457910974\n",
            "Percent positive samples in val: 25.0\n",
            "\n",
            "NOTE:\n",
            "Setting batch-size to 64\n",
            "Using device (CPU/GPU): cpu\n"
          ],
          "name": "stdout"
        }
      ]
    },
    {
      "cell_type": "code",
      "metadata": {
        "id": "oYApovfOHPmV"
      },
      "source": [
        "yt = y_train\n",
        "yv = y_val"
      ],
      "execution_count": null,
      "outputs": []
    },
    {
      "cell_type": "code",
      "metadata": {
        "id": "vjfvrplAzufb"
      },
      "source": [
        "X_rtrain = X_train.reshape((4538, 22680))\n",
        "X_rval = X_val.reshape((1168, 22680))"
      ],
      "execution_count": null,
      "outputs": []
    },
    {
      "cell_type": "code",
      "metadata": {
        "id": "NzzzEkjo21oY"
      },
      "source": [
        "from sklearn.preprocessing import RobustScaler\n",
        "\n",
        "X_rtrain = RobustScaler().fit_transform(X_rtrain)\n",
        "X_rval = RobustScaler().fit_transform(X_rval)"
      ],
      "execution_count": null,
      "outputs": []
    },
    {
      "cell_type": "code",
      "metadata": {
        "id": "_rS9oOpNF60z"
      },
      "source": [
        "x_train = X_rtrain.reshape(X_train.shape[0], 420, 54)\n",
        "x_val = X_rval.reshape(X_val.shape[0], 420, 54)"
      ],
      "execution_count": null,
      "outputs": []
    },
    {
      "cell_type": "code",
      "metadata": {
        "id": "2VWAyU-BGM3r"
      },
      "source": [
        "from keras.utils import np_utils\n",
        "number_of_classes =2\n",
        "\n",
        "y_train = np_utils.to_categorical(y_train, number_of_classes)\n",
        "y_val = np_utils.to_categorical(y_val, number_of_classes)"
      ],
      "execution_count": null,
      "outputs": []
    },
    {
      "cell_type": "code",
      "metadata": {
        "id": "0391i5Ppr52G"
      },
      "source": [
        "from keras.models import Sequential, Model\n",
        "from keras.layers import Input, Dense, Dropout, Activation, Concatenate, Flatten, GlobalAveragePooling1D, MaxPooling2D, Conv2D, Conv1D, MaxPooling1D, GlobalMaxPooling1D, BatchNormalization, LSTM, GRU, Bidirectional, Lambda\n",
        "from keras.regularizers import l2,l1\n",
        "from keras.optimizers import SGD,Adam,RMSprop\n",
        "from tensorflow.compat.v1 import InteractiveSession\n",
        "import keras.backend as K\n",
        "from keras.preprocessing.image import array_to_img, img_to_array, load_img\n",
        "from keras.callbacks import EarlyStopping, ModelCheckpoint,ReduceLROnPlateau\n",
        "from keras.models import load_model\n",
        "import keras.metrics"
      ],
      "execution_count": null,
      "outputs": []
    },
    {
      "cell_type": "code",
      "metadata": {
        "colab": {
          "base_uri": "https://localhost:8080/"
        },
        "id": "ljoWg-qPPLPI",
        "outputId": "fabbf63c-db27-408f-dbdf-f1a5660bc164"
      },
      "source": [
        "!pip install tensorflow_addons\n",
        "import tensorflow_addons as tfa"
      ],
      "execution_count": null,
      "outputs": [
        {
          "output_type": "stream",
          "text": [
            "Collecting tensorflow_addons\n",
            "\u001b[?25l  Downloading https://files.pythonhosted.org/packages/74/e3/56d2fe76f0bb7c88ed9b2a6a557e25e83e252aec08f13de34369cd850a0b/tensorflow_addons-0.12.1-cp37-cp37m-manylinux2010_x86_64.whl (703kB)\n",
            "\r\u001b[K     |▌                               | 10kB 9.9MB/s eta 0:00:01\r\u001b[K     |█                               | 20kB 15.8MB/s eta 0:00:01\r\u001b[K     |█▍                              | 30kB 19.8MB/s eta 0:00:01\r\u001b[K     |█▉                              | 40kB 22.8MB/s eta 0:00:01\r\u001b[K     |██▎                             | 51kB 25.6MB/s eta 0:00:01\r\u001b[K     |██▉                             | 61kB 15.5MB/s eta 0:00:01\r\u001b[K     |███▎                            | 71kB 16.0MB/s eta 0:00:01\r\u001b[K     |███▊                            | 81kB 17.0MB/s eta 0:00:01\r\u001b[K     |████▏                           | 92kB 18.2MB/s eta 0:00:01\r\u001b[K     |████▋                           | 102kB 19.5MB/s eta 0:00:01\r\u001b[K     |█████▏                          | 112kB 19.5MB/s eta 0:00:01\r\u001b[K     |█████▋                          | 122kB 19.5MB/s eta 0:00:01\r\u001b[K     |██████                          | 133kB 19.5MB/s eta 0:00:01\r\u001b[K     |██████▌                         | 143kB 19.5MB/s eta 0:00:01\r\u001b[K     |███████                         | 153kB 19.5MB/s eta 0:00:01\r\u001b[K     |███████▌                        | 163kB 19.5MB/s eta 0:00:01\r\u001b[K     |████████                        | 174kB 19.5MB/s eta 0:00:01\r\u001b[K     |████████▍                       | 184kB 19.5MB/s eta 0:00:01\r\u001b[K     |████████▉                       | 194kB 19.5MB/s eta 0:00:01\r\u001b[K     |█████████▎                      | 204kB 19.5MB/s eta 0:00:01\r\u001b[K     |█████████▉                      | 215kB 19.5MB/s eta 0:00:01\r\u001b[K     |██████████▎                     | 225kB 19.5MB/s eta 0:00:01\r\u001b[K     |██████████▊                     | 235kB 19.5MB/s eta 0:00:01\r\u001b[K     |███████████▏                    | 245kB 19.5MB/s eta 0:00:01\r\u001b[K     |███████████▋                    | 256kB 19.5MB/s eta 0:00:01\r\u001b[K     |████████████▏                   | 266kB 19.5MB/s eta 0:00:01\r\u001b[K     |████████████▋                   | 276kB 19.5MB/s eta 0:00:01\r\u001b[K     |█████████████                   | 286kB 19.5MB/s eta 0:00:01\r\u001b[K     |█████████████▌                  | 296kB 19.5MB/s eta 0:00:01\r\u001b[K     |██████████████                  | 307kB 19.5MB/s eta 0:00:01\r\u001b[K     |██████████████▍                 | 317kB 19.5MB/s eta 0:00:01\r\u001b[K     |███████████████                 | 327kB 19.5MB/s eta 0:00:01\r\u001b[K     |███████████████▍                | 337kB 19.5MB/s eta 0:00:01\r\u001b[K     |███████████████▉                | 348kB 19.5MB/s eta 0:00:01\r\u001b[K     |████████████████▎               | 358kB 19.5MB/s eta 0:00:01\r\u001b[K     |████████████████▊               | 368kB 19.5MB/s eta 0:00:01\r\u001b[K     |█████████████████▎              | 378kB 19.5MB/s eta 0:00:01\r\u001b[K     |█████████████████▊              | 389kB 19.5MB/s eta 0:00:01\r\u001b[K     |██████████████████▏             | 399kB 19.5MB/s eta 0:00:01\r\u001b[K     |██████████████████▋             | 409kB 19.5MB/s eta 0:00:01\r\u001b[K     |███████████████████             | 419kB 19.5MB/s eta 0:00:01\r\u001b[K     |███████████████████▋            | 430kB 19.5MB/s eta 0:00:01\r\u001b[K     |████████████████████            | 440kB 19.5MB/s eta 0:00:01\r\u001b[K     |████████████████████▌           | 450kB 19.5MB/s eta 0:00:01\r\u001b[K     |█████████████████████           | 460kB 19.5MB/s eta 0:00:01\r\u001b[K     |█████████████████████▍          | 471kB 19.5MB/s eta 0:00:01\r\u001b[K     |██████████████████████          | 481kB 19.5MB/s eta 0:00:01\r\u001b[K     |██████████████████████▍         | 491kB 19.5MB/s eta 0:00:01\r\u001b[K     |██████████████████████▉         | 501kB 19.5MB/s eta 0:00:01\r\u001b[K     |███████████████████████▎        | 512kB 19.5MB/s eta 0:00:01\r\u001b[K     |███████████████████████▊        | 522kB 19.5MB/s eta 0:00:01\r\u001b[K     |████████████████████████▎       | 532kB 19.5MB/s eta 0:00:01\r\u001b[K     |████████████████████████▊       | 542kB 19.5MB/s eta 0:00:01\r\u001b[K     |█████████████████████████▏      | 552kB 19.5MB/s eta 0:00:01\r\u001b[K     |█████████████████████████▋      | 563kB 19.5MB/s eta 0:00:01\r\u001b[K     |██████████████████████████      | 573kB 19.5MB/s eta 0:00:01\r\u001b[K     |██████████████████████████▋     | 583kB 19.5MB/s eta 0:00:01\r\u001b[K     |███████████████████████████     | 593kB 19.5MB/s eta 0:00:01\r\u001b[K     |███████████████████████████▌    | 604kB 19.5MB/s eta 0:00:01\r\u001b[K     |████████████████████████████    | 614kB 19.5MB/s eta 0:00:01\r\u001b[K     |████████████████████████████▍   | 624kB 19.5MB/s eta 0:00:01\r\u001b[K     |████████████████████████████▉   | 634kB 19.5MB/s eta 0:00:01\r\u001b[K     |█████████████████████████████▍  | 645kB 19.5MB/s eta 0:00:01\r\u001b[K     |█████████████████████████████▉  | 655kB 19.5MB/s eta 0:00:01\r\u001b[K     |██████████████████████████████▎ | 665kB 19.5MB/s eta 0:00:01\r\u001b[K     |██████████████████████████████▊ | 675kB 19.5MB/s eta 0:00:01\r\u001b[K     |███████████████████████████████▏| 686kB 19.5MB/s eta 0:00:01\r\u001b[K     |███████████████████████████████▊| 696kB 19.5MB/s eta 0:00:01\r\u001b[K     |████████████████████████████████| 706kB 19.5MB/s \n",
            "\u001b[?25hRequirement already satisfied: typeguard>=2.7 in /usr/local/lib/python3.7/dist-packages (from tensorflow_addons) (2.7.1)\n",
            "Installing collected packages: tensorflow-addons\n",
            "Successfully installed tensorflow-addons-0.12.1\n"
          ],
          "name": "stdout"
        }
      ]
    },
    {
      "cell_type": "code",
      "metadata": {
        "id": "AaAp2kAj93c5"
      },
      "source": [
        "#now model\n",
        "def clear_sess():\n",
        "  try:\n",
        "    del model, history\n",
        "  except:\n",
        "    pass\n",
        "  from keras import backend as K\n",
        "  K.clear_session()\n",
        "  return None"
      ],
      "execution_count": null,
      "outputs": []
    },
    {
      "cell_type": "code",
      "metadata": {
        "colab": {
          "base_uri": "https://localhost:8080/"
        },
        "id": "6DH5MBSGr7OI",
        "outputId": "c9adf562-dc3e-48fb-b016-e417de4f24ef"
      },
      "source": [
        "opt = Adam(lr =0.0002)\n",
        "model = Sequential()\n",
        "model.add(Conv1D(32, 3, input_shape =(420, 54)))\n",
        "model.add(Conv1D(32, 3, activation='relu'))\n",
        "model.add(Dropout(0.2))\n",
        "model.add(MaxPooling1D(pool_size=2))\n",
        "model.add(Flatten())\n",
        "model.add(Dense(100, activation='relu'))\n",
        "model.add(Dense(2))\n",
        "model.add(Activation('softmax'))\n",
        "print(model.summary())\n",
        "\n",
        "es = EarlyStopping(monitor='accuracy', mode='max', patience=10, verbose=1)\n",
        "\n",
        "model.compile(loss=tfa.losses.SigmoidFocalCrossEntropy(alpha = 0.75, gamma = 1.5), optimizer = opt, metrics=[\"accuracy\"])"
      ],
      "execution_count": null,
      "outputs": [
        {
          "output_type": "stream",
          "text": [
            "Model: \"sequential_9\"\n",
            "_________________________________________________________________\n",
            "Layer (type)                 Output Shape              Param #   \n",
            "=================================================================\n",
            "conv1d_15 (Conv1D)           (None, 418, 32)           5216      \n",
            "_________________________________________________________________\n",
            "conv1d_16 (Conv1D)           (None, 416, 32)           3104      \n",
            "_________________________________________________________________\n",
            "dropout_5 (Dropout)          (None, 416, 32)           0         \n",
            "_________________________________________________________________\n",
            "max_pooling1d_4 (MaxPooling1 (None, 208, 32)           0         \n",
            "_________________________________________________________________\n",
            "flatten_9 (Flatten)          (None, 6656)              0         \n",
            "_________________________________________________________________\n",
            "dense_14 (Dense)             (None, 100)               665700    \n",
            "_________________________________________________________________\n",
            "dense_15 (Dense)             (None, 2)                 202       \n",
            "_________________________________________________________________\n",
            "activation_9 (Activation)    (None, 2)                 0         \n",
            "=================================================================\n",
            "Total params: 674,222\n",
            "Trainable params: 674,222\n",
            "Non-trainable params: 0\n",
            "_________________________________________________________________\n",
            "None\n"
          ],
          "name": "stdout"
        }
      ]
    },
    {
      "cell_type": "code",
      "metadata": {
        "colab": {
          "background_save": true,
          "base_uri": "https://localhost:8080/"
        },
        "id": "mSiF4ILf5Ay4",
        "outputId": "469ea2c2-a322-4b8a-eeff-48900a799f33"
      },
      "source": [
        "model.fit(x_train, y_train, epochs= 150, callbacks=[es], verbose=2)"
      ],
      "execution_count": null,
      "outputs": [
        {
          "output_type": "stream",
          "text": [
            "Epoch 1/150\n",
            "142/142 - 6s - loss: 0.7091 - accuracy: 0.7492\n",
            "Epoch 2/150\n",
            "142/142 - 5s - loss: 0.6314 - accuracy: 0.8129\n",
            "Epoch 3/150\n",
            "142/142 - 5s - loss: 0.6152 - accuracy: 0.8354\n",
            "Epoch 4/150\n",
            "142/142 - 5s - loss: 0.6012 - accuracy: 0.8552\n",
            "Epoch 5/150\n",
            "142/142 - 5s - loss: 0.5893 - accuracy: 0.8691\n",
            "Epoch 6/150\n",
            "142/142 - 5s - loss: 0.5793 - accuracy: 0.8797\n",
            "Epoch 7/150\n",
            "142/142 - 5s - loss: 0.5692 - accuracy: 0.8859\n",
            "Epoch 8/150\n",
            "142/142 - 5s - loss: 0.5583 - accuracy: 0.9048\n",
            "Epoch 9/150\n",
            "142/142 - 5s - loss: 0.5484 - accuracy: 0.9101\n",
            "Epoch 10/150\n",
            "142/142 - 5s - loss: 0.5403 - accuracy: 0.9204\n",
            "Epoch 11/150\n",
            "142/142 - 5s - loss: 0.5321 - accuracy: 0.9332\n",
            "Epoch 12/150\n",
            "142/142 - 5s - loss: 0.5234 - accuracy: 0.9436\n",
            "Epoch 13/150\n",
            "142/142 - 5s - loss: 0.5183 - accuracy: 0.9495\n",
            "Epoch 14/150\n",
            "142/142 - 5s - loss: 0.5120 - accuracy: 0.9544\n",
            "Epoch 15/150\n",
            "142/142 - 5s - loss: 0.5108 - accuracy: 0.9553\n",
            "Epoch 16/150\n",
            "142/142 - 5s - loss: 0.5064 - accuracy: 0.9617\n",
            "Epoch 17/150\n",
            "142/142 - 5s - loss: 0.5038 - accuracy: 0.9641\n",
            "Epoch 18/150\n",
            "142/142 - 5s - loss: 0.5024 - accuracy: 0.9650\n",
            "Epoch 19/150\n",
            "142/142 - 5s - loss: 0.4992 - accuracy: 0.9674\n",
            "Epoch 20/150\n",
            "142/142 - 5s - loss: 0.4991 - accuracy: 0.9663\n",
            "Epoch 21/150\n",
            "142/142 - 5s - loss: 1.5204 - accuracy: 0.8894\n",
            "Epoch 22/150\n",
            "142/142 - 5s - loss: 2.8433 - accuracy: 0.8019\n",
            "Epoch 23/150\n",
            "142/142 - 5s - loss: 2.8365 - accuracy: 0.8100\n",
            "Epoch 24/150\n",
            "142/142 - 5s - loss: 2.8334 - accuracy: 0.8138\n",
            "Epoch 25/150\n",
            "142/142 - 5s - loss: 2.8310 - accuracy: 0.8158\n",
            "Epoch 26/150\n",
            "142/142 - 5s - loss: 2.8317 - accuracy: 0.8153\n",
            "Epoch 27/150\n",
            "142/142 - 5s - loss: 2.8305 - accuracy: 0.8149\n",
            "Epoch 28/150\n",
            "142/142 - 5s - loss: 2.8292 - accuracy: 0.8162\n",
            "Epoch 29/150\n",
            "142/142 - 5s - loss: 2.8260 - accuracy: 0.8164\n",
            "Epoch 00029: early stopping\n"
          ],
          "name": "stdout"
        },
        {
          "output_type": "execute_result",
          "data": {
            "text/plain": [
              "<tensorflow.python.keras.callbacks.History at 0x7f0f06188d50>"
            ]
          },
          "metadata": {
            "tags": []
          },
          "execution_count": 0
        }
      ]
    },
    {
      "cell_type": "code",
      "metadata": {
        "colab": {
          "base_uri": "https://localhost:8080/"
        },
        "id": "ggDz7SMbH13Q",
        "outputId": "b56d27eb-5b50-4e65-9df8-0c8bd25cbada"
      },
      "source": [
        "loss, acc = model.evaluate(x_train, y_train) # for training data\n",
        "print(loss, acc)"
      ],
      "execution_count": null,
      "outputs": [
        {
          "output_type": "stream",
          "text": [
            "142/142 [==============================] - 2s 11ms/step - loss: 0.5013 - accuracy: 0.9641\n",
            "0.5013085603713989 0.9640811085700989\n"
          ],
          "name": "stdout"
        }
      ]
    },
    {
      "cell_type": "code",
      "metadata": {
        "colab": {
          "base_uri": "https://localhost:8080/"
        },
        "id": "hm6BbXIhPX79",
        "outputId": "04eae626-a1c9-4436-819a-843e7539a40f"
      },
      "source": [
        "loss_val, acc_val = model.evaluate(x_val, y_val)\n",
        "print(loss_val, acc_val)"
      ],
      "execution_count": null,
      "outputs": [
        {
          "output_type": "stream",
          "text": [
            "37/37 [==============================] - 0s 12ms/step - loss: 0.9931 - accuracy: 0.8459\n",
            "0.9930638670921326 0.8458904027938843\n"
          ],
          "name": "stdout"
        }
      ]
    },
    {
      "cell_type": "code",
      "metadata": {
        "colab": {
          "base_uri": "https://localhost:8080/"
        },
        "id": "u1sAsfY0Ib8T",
        "outputId": "bf188a31-8051-405c-e7ca-9c06d278b20d"
      },
      "source": [
        "yv_pred = model.predict_classes(x_val)\n",
        "\n",
        "yt_pred = model.predict_classes(x_train)"
      ],
      "execution_count": null,
      "outputs": [
        {
          "output_type": "stream",
          "text": [
            "/usr/local/lib/python3.7/dist-packages/tensorflow/python/keras/engine/sequential.py:450: UserWarning: `model.predict_classes()` is deprecated and will be removed after 2021-01-01. Please use instead:* `np.argmax(model.predict(x), axis=-1)`,   if your model does multi-class classification   (e.g. if it uses a `softmax` last-layer activation).* `(model.predict(x) > 0.5).astype(\"int32\")`,   if your model does binary classification   (e.g. if it uses a `sigmoid` last-layer activation).\n",
            "  warnings.warn('`model.predict_classes()` is deprecated and '\n"
          ],
          "name": "stderr"
        }
      ]
    },
    {
      "cell_type": "code",
      "metadata": {
        "id": "nQvydm2lIztQ"
      },
      "source": [
        "import seaborn as sns\n",
        "# m = confusion_matrix(yv, yv_pred)\n",
        "\n",
        "m = [[3397 8][31 1102]]\n",
        "plt.figure(figsize=(16,9))\n",
        "ax = plt.subplot()\n",
        "sns.heatmap(m, ax=ax)\n",
        "\n",
        "ax.set_xlabel(\"Pred Labels\", size=20)\n",
        "ax.set_ylabel(\"True Labels\", size=20)\n",
        "\n",
        "print(m)"
      ],
      "execution_count": null,
      "outputs": []
    },
    {
      "cell_type": "code",
      "metadata": {
        "colab": {
          "base_uri": "https://localhost:8080/"
        },
        "id": "V_WxJG_z42zk",
        "scrolled": false,
        "outputId": "b95f4745-b4e0-4b97-d43b-8194823d2e52"
      },
      "source": [
        "from sklearn.metrics import matthews_corrcoef\n",
        "print('TRAINING MCC             ', round(matthews_corrcoef(yt, yt_pred),4))\n",
        "print('VAL     MCC             ', round(matthews_corrcoef(yv, yv_pred),4))"
      ],
      "execution_count": null,
      "outputs": [
        {
          "output_type": "stream",
          "text": [
            "TRAINING MCC              0.9033\n",
            "VAL     MCC              0.565\n"
          ],
          "name": "stdout"
        }
      ]
    },
    {
      "cell_type": "markdown",
      "metadata": {
        "id": "V8_u6hkx42zl"
      },
      "source": [
        "## MH"
      ]
    },
    {
      "cell_type": "code",
      "metadata": {
        "colab": {
          "base_uri": "https://localhost:8080/",
          "height": 680
        },
        "id": "qs0sFReh42zm",
        "scrolled": false,
        "outputId": "4442f32e-2ffa-4076-ba0d-e80f61f1122a"
      },
      "source": [
        "###############################\n",
        "###        PERFORMANCE      ###\n",
        "###############################\n",
        "\n",
        "epoch = np.arange(1,len(train_acc)+1)\n",
        "plt.figure()\n",
        "plt.plot(epoch, losses, 'r', epoch, val_losses, 'b')\n",
        "plt.legend(['Train Loss','Validation Loss'])\n",
        "plt.xlabel('Epoch^'), plt.ylabel('Loss')\n",
        "\n",
        "epoch = np.arange(1,len(train_acc)+1)\n",
        "plt.figure()\n",
        "plt.plot(epoch, train_acc, 'r', epoch, valid_acc, 'b')\n",
        "plt.legend(['Train Accuracy','Validation Accuracy'])\n",
        "plt.xlabel('Epoch'), plt.ylabel('Acc')\n",
        "\n",
        "#print(\"Train accuracy:\", train_acc, sep = \"\\n\")\n",
        "#print(\"Validation accuracy:\", valid_acc, sep = \"\\n\")\n",
        "\n",
        "from sklearn.metrics import matthews_corrcoef\n",
        "print(\"MCC Train:\", matthews_corrcoef(train_targs, train_preds))\n",
        "print(\"MCC Test:\", matthews_corrcoef(val_targs, val_preds))\n",
        "\n",
        "print(\"Confusion matrix train:\", confusion_matrix(train_targs, train_preds), sep = \"\\n\")\n",
        "print(\"Confusion matrix test:\", confusion_matrix(val_targs, val_preds), sep = \"\\n\")"
      ],
      "execution_count": null,
      "outputs": [
        {
          "output_type": "stream",
          "text": [
            "MCC Train: 0.24774409929398966\n",
            "MCC Test: 0.02391140499294052\n",
            "Confusion matrix train:\n",
            "[[3158  247]\n",
            " [ 841  292]]\n",
            "Confusion matrix test:\n",
            "[[875   1]\n",
            " [291   1]]\n"
          ],
          "name": "stdout"
        },
        {
          "output_type": "display_data",
          "data": {
            "image/png": "[encoded data removed]",
            "text/plain": [
              "<Figure size 432x288 with 1 Axes>"
            ]
          },
          "metadata": {
            "tags": []
          }
        },
        {
          "output_type": "display_data",
          "data": {
            "image/png": "[encoded data removed]",
            "text/plain": [
              "<Figure size 432x288 with 1 Axes>"
            ]
          },
          "metadata": {
            "tags": []
          }
        }
      ]
    },
    {
      "cell_type": "code",
      "metadata": {
        "id": "Nct087AB42zm"
      },
      "source": [
        "def plot_roc(targets, predictions):\n",
        "    # ROC\n",
        "    fpr, tpr, threshold = metrics.roc_curve(targets, predictions)\n",
        "    roc_auc = metrics.auc(fpr, tpr)\n",
        "\n",
        "    # plot ROC\n",
        "    plt.figure()\n",
        "    plt.title('Receiver Operating Characteristic')\n",
        "    plt.plot(fpr, tpr, 'b', label = 'AUC = %0.2f' % roc_auc)\n",
        "    plt.legend(loc = 'lower right')\n",
        "    plt.plot([0, 1], [0, 1],'r--')\n",
        "    plt.xlim([0, 1])\n",
        "    plt.ylim([0, 1])\n",
        "    plt.ylabel('True Positive Rate')\n",
        "    plt.xlabel('False Positive Rate')\n",
        "    #plt.show()"
      ],
      "execution_count": null,
      "outputs": []
    },
    {
      "cell_type": "code",
      "metadata": {
        "colab": {
          "base_uri": "https://localhost:8080/",
          "height": 591
        },
        "id": "oXf5oVqb42zn",
        "outputId": "a44d3bce-989d-434b-9409-a8469d516d92"
      },
      "source": [
        "plot_roc(train_targs, train_preds)\n",
        "plt.title(\"Training AUC\")\n",
        "plot_roc(val_targs, val_preds)\n",
        "plt.title(\"Validation AUC\")"
      ],
      "execution_count": null,
      "outputs": [
        {
          "output_type": "execute_result",
          "data": {
            "text/plain": [
              "Text(0.5, 1.0, 'Validation AUC')"
            ]
          },
          "metadata": {
            "tags": []
          },
          "execution_count": 22
        },
        {
          "output_type": "display_data",
          "data": {
            "image/png": "[encoded data removed]",
            "text/plain": [
              "<Figure size 432x288 with 1 Axes>"
            ]
          },
          "metadata": {
            "tags": []
          }
        },
        {
          "output_type": "display_data",
          "data": {
            "image/png": "[encoded data removed]",
            "text/plain": [
              "<Figure size 432x288 with 1 Axes>"
            ]
          },
          "metadata": {
            "tags": []
          }
        }
      ]
    }
  ]
}